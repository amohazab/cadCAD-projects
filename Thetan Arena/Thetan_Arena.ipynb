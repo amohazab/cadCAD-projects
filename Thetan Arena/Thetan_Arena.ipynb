{
 "cells": [
  {
   "cell_type": "markdown",
   "id": "05b6f1a7",
   "metadata": {},
   "source": [
    "# Dependencies"
   ]
  },
  {
   "cell_type": "code",
   "execution_count": 1,
   "id": "e27e90d8",
   "metadata": {},
   "outputs": [],
   "source": [
    "import pandas as pd\n",
    "import numpy as np\n",
    "import plotly.express as px\n",
    "\n",
    "from cadCAD.configuration.utils import config_sim\n",
    "from cadCAD.configuration import Experiment\n",
    "from cadCAD.engine import ExecutionContext, Executor"
   ]
  },
  {
   "cell_type": "markdown",
   "id": "f3f0cfb0",
   "metadata": {},
   "source": [
    "# State variables:\n",
    "* number of users\n",
    "* THC demand\n",
    "* THC supply\n",
    "* THG demand\n",
    "* THG supply"
   ]
  },
  {
   "cell_type": "code",
   "execution_count": 2,
   "id": "f137e670",
   "metadata": {},
   "outputs": [],
   "source": [
    "initial_state={\n",
    "    'num_users' : 0,\n",
    "    'THC_demand' : 0,\n",
    "    'THC_supply' : 0,\n",
    "    'THG_demand' : 0,\n",
    "    'THG_supply' : 0\n",
    "}"
   ]
  },
  {
   "cell_type": "markdown",
   "id": "344ea8d5",
   "metadata": {},
   "source": [
    "# Parameters\n",
    "* input rate\n",
    "* investor rate (percentage of investors among the users)\n",
    "* Player rate (percentage of Players among the users)\n",
    "* THC deflation rate, which is zero here\n",
    "* THC upgrade price, which is the average price for upgrading a hero\n",
    "* THG release amount, which is constant and exogenous to the players and system."
   ]
  },
  {
   "cell_type": "code",
   "execution_count": 3,
   "id": "fb4f1cb6",
   "metadata": {},
   "outputs": [],
   "source": [
    "system_params = {\n",
    "    'input_rate': [1000],\n",
    "    'investor_rate': [0.2 , 0.25],\n",
    "    'player_rate': [0.3],\n",
    "    'THC_deflation': [0],\n",
    "    'THG_TX_fees': [0.04],\n",
    "    'THG_upgrade_price': [4],\n",
    "    'THG_release_amount': [530000]\n",
    "}"
   ]
  },
  {
   "cell_type": "markdown",
   "id": "bf58a134",
   "metadata": {},
   "source": [
    "# Policy functions\n",
    "Policy functions are the imputs to the state update functions. These are the main variables that affect the state variables of the system."
   ]
  },
  {
   "cell_type": "code",
   "execution_count": 4,
   "id": "409a081f",
   "metadata": {},
   "outputs": [],
   "source": [
    "def p_input_users(params,\n",
    "                  substep,\n",
    "                  state_history,\n",
    "                  previous_state):\n",
    "    #parameters\n",
    "    rate = params['input_rate']\n",
    "    \n",
    "    #logic\n",
    "    input_people = np.random.poisson(rate , 1)[0]\n",
    "    \n",
    "    #output\n",
    "    return {'add_num_users': input_people}\n",
    "    "
   ]
  },
  {
   "cell_type": "code",
   "execution_count": 5,
   "id": "6577fe46",
   "metadata": {},
   "outputs": [],
   "source": [
    "def p_buy_hero(params,\n",
    "               substep,\n",
    "               state_history,\n",
    "               previous_state):\n",
    "    # parameters and variables\n",
    "    num_users = previous_state['num_users']\n",
    "    investor_rate = params['investor_rate']\n",
    "    player_rate = params['player_rate']\n",
    "    \n",
    "    # logic\n",
    "    n_investors = int(round((num_users* investor_rate),0))\n",
    "    n_players = int(round((num_users* player_rate),0))\n",
    "    \n",
    "    # investors buy hero once every 10 days and players buy once every 20 days\n",
    "    n_buyers = int(round((n_investors*0.1 + n_players*0.05),0))\n",
    "    \n",
    "    # the price of the hero will come from a exponential distribution of the heroes who are currently in the market\n",
    "    price_vector = np.random.exponential(304.4 , n_buyers)\n",
    "    agg_demand = np.sum(price_vector)\n",
    "    \n",
    "    # output\n",
    "    return {'add_THC_demand' : agg_demand}\n",
    "    "
   ]
  },
  {
   "cell_type": "code",
   "execution_count": 6,
   "id": "cdad4ff7",
   "metadata": {},
   "outputs": [],
   "source": [
    "def p_THC_supply(params,\n",
    "                 substep,\n",
    "                 state_history,\n",
    "                 previous_state):\n",
    "    # parameters and variables\n",
    "    num_users = previous_state['num_users']\n",
    "    investor_rate = params['investor_rate']\n",
    "    player_rate = params['player_rate']\n",
    "    \n",
    "    # logic\n",
    "    n_investors = int(round((num_users* investor_rate),0))\n",
    "    n_players = int(round((num_users* player_rate),0))\n",
    "    n_earners = num_users - (n_investors + n_players)\n",
    "    # we assume that at each step 60% of players, 40% of earners and 20% of investors play\n",
    "    n_active_players = int(round((n_investors*0.5 + n_players*0.7 + n_earners*0.6),0))\n",
    "    \n",
    "    # We assume the average daily battles is 14 for each player. It is just a lucky guess\n",
    "    n_games_daily = int(round((n_active_players/12),0)) * 14\n",
    "    \n",
    "    # token issued each game as rewards (20) and the average bonus token issued (5)\n",
    "    token_issued_daily = n_games_daily * (20+5)\n",
    "    \n",
    "    #output\n",
    "    return {'add_THC_supply' : token_issued_daily}\n",
    "    "
   ]
  },
  {
   "cell_type": "code",
   "execution_count": 7,
   "id": "d97fb74a",
   "metadata": {},
   "outputs": [],
   "source": [
    "def p_THG_fees(params,\n",
    "               substep,\n",
    "               state_history,\n",
    "               previous_state):\n",
    "    # parameters and variables'\n",
    "    # THC_price/THG_price = 0.05\n",
    "    fee_rate = params['THG_TX_fees'] * 0.05\n",
    "    THC_supply = previous_state['THC_supply']\n",
    "    THC_demand = previous_state['THC_demand']\n",
    "    \n",
    "    # logic\n",
    "    fee_payed = max((THC_supply - THC_demand)*fee_rate*0.7 , 0)\n",
    "    \n",
    "    # output\n",
    "    return{'add_THG_demand' : fee_payed}\n",
    "    "
   ]
  },
  {
   "cell_type": "code",
   "execution_count": 8,
   "id": "ef7ec48c",
   "metadata": {},
   "outputs": [],
   "source": [
    "def p_THG_upgrade(params,\n",
    "                 substep,\n",
    "                 state_history,\n",
    "                 previous_state):\n",
    "    # parameters and variable\n",
    "    num_users = previous_state['num_users']\n",
    "    investor_rate = params['investor_rate']\n",
    "    player_rate = params['player_rate']\n",
    "    upgrade_fee = params['THG_upgrade_price']\n",
    "    \n",
    "    # logic\n",
    "    n_investors = int(round((num_users* investor_rate),0))\n",
    "    n_players = int(round((num_users* player_rate),0))\n",
    "    n_earners = num_users - (n_investors + n_players)\n",
    "    \n",
    "    # We assume that players upgrade with probability %30, investors with 10% and earners zero.\n",
    "    n_players_upgraded = int(round((n_investors*0.1 + n_players*0.3),0))\n",
    "    \n",
    "    # We assume that average upgrade fee is 4 gTHG \n",
    "    upgrade_fees = n_players_upgraded * upgrade_fee\n",
    "    \n",
    "    # output\n",
    "    return{'add_THG_demand' : upgrade_fees}\n",
    "    \n",
    "    "
   ]
  },
  {
   "cell_type": "code",
   "execution_count": 9,
   "id": "9a281dc4",
   "metadata": {},
   "outputs": [],
   "source": [
    "def p_THG_supply(params,\n",
    "                 substep,\n",
    "                 state_history,\n",
    "                 previous_state):\n",
    "    # params and variables\n",
    "    THG_amount = params['THG_release_amount']\n",
    "    \n",
    "    return{'add_THG_supply' : THG_amount}"
   ]
  },
  {
   "cell_type": "markdown",
   "id": "e3be45a1",
   "metadata": {},
   "source": [
    "# State update functions\n",
    "We define the state update functions here. Each function updates a value of one specific state variable."
   ]
  },
  {
   "cell_type": "code",
   "execution_count": 10,
   "id": "ec018afe",
   "metadata": {},
   "outputs": [],
   "source": [
    "def s_num_users(params, \n",
    "                substep, \n",
    "                state_history, \n",
    "                previous_state,\n",
    "                policy_input):\n",
    "    \n",
    "    current_number = previous_state['num_users']\n",
    "    incoming = policy_input['add_num_users']\n",
    "    \n",
    "    # Logic\n",
    "    new_num = current_number + incoming\n",
    "    \n",
    "    # Output\n",
    "    return ('num_users', new_num)"
   ]
  },
  {
   "cell_type": "code",
   "execution_count": 11,
   "id": "0e97fc81",
   "metadata": {},
   "outputs": [],
   "source": [
    "def s_THC_demand(params, \n",
    "                 substep, \n",
    "                 state_history, \n",
    "                 previous_state,\n",
    "                 policy_input):\n",
    "    \n",
    "    current_demand = previous_state['THC_demand']\n",
    "    new_demand = policy_input['add_THC_demand']\n",
    "    \n",
    "    # Logic\n",
    "    res_demand = current_demand + new_demand\n",
    "    \n",
    "    # Output\n",
    "    return ('THC_demand', res_demand)"
   ]
  },
  {
   "cell_type": "code",
   "execution_count": 12,
   "id": "351ecc0b",
   "metadata": {},
   "outputs": [],
   "source": [
    "def s_THC_supply(params, \n",
    "                 substep, \n",
    "                 state_history, \n",
    "                 previous_state,\n",
    "                 policy_input):\n",
    "    def_rate = params['THC_deflation']\n",
    "    current_supply = previous_state['THC_supply']\n",
    "    new_supply = policy_input['add_THC_supply']\n",
    "    \n",
    "    # Logic\n",
    "    thc_supply = current_supply + new_supply\n",
    "    res_supply = int(round(thc_supply*(1-def_rate),0))\n",
    "    \n",
    "    # Output\n",
    "    return ('THC_supply', res_supply)"
   ]
  },
  {
   "cell_type": "code",
   "execution_count": 13,
   "id": "05070699",
   "metadata": {},
   "outputs": [],
   "source": [
    "def s_THG_supply(params, \n",
    "                 substep, \n",
    "                 state_history, \n",
    "                 previous_state,\n",
    "                 policy_input):\n",
    "    \n",
    "    current_supply = previous_state['THG_supply']\n",
    "    new_supply = policy_input['add_THG_supply']\n",
    "    \n",
    "    # Logic\n",
    "    res_supply = current_supply + new_supply\n",
    "    \n",
    "    # Output\n",
    "    return ('THG_supply', res_supply)"
   ]
  },
  {
   "cell_type": "code",
   "execution_count": 14,
   "id": "6acbbb18",
   "metadata": {},
   "outputs": [],
   "source": [
    "def s_THG_demand(params, \n",
    "                 substep, \n",
    "                 state_history, \n",
    "                 previous_state,\n",
    "                 policy_input):\n",
    "    \n",
    "    current_demand = previous_state['THG_demand']\n",
    "    new_demand = policy_input['add_THG_demand']\n",
    "    \n",
    "    # Logic\n",
    "    res_demand = current_demand + new_demand\n",
    "    \n",
    "    # Output\n",
    "    return ('THG_demand', res_demand)"
   ]
  },
  {
   "cell_type": "markdown",
   "id": "fcb07331",
   "metadata": {},
   "source": [
    "# partial state update blocks\n",
    "partial state update blocks determines the way (order) that the state variables are updated at each timestep. TO be more clear, consider the situation where we need to update one specific state variable before the others. This is the place to determine these strategies. "
   ]
  },
  {
   "cell_type": "code",
   "execution_count": 15,
   "id": "674ca6b4",
   "metadata": {},
   "outputs": [],
   "source": [
    "# partial state update blocks\n",
    "partial_state_update_blocks = [\n",
    "    {\n",
    "        'label': ' number of users', \n",
    "        'policies': {\n",
    "            'input_users': p_input_users\n",
    "        },\n",
    "        'variables': {\n",
    "            'num_users': s_num_users\n",
    "            \n",
    "        }\n",
    "    },\n",
    "    \n",
    "    {\n",
    "        'label': ' THC_demand dynamics', \n",
    "        'policies': {\n",
    "            'buy_hero': p_buy_hero\n",
    "        },\n",
    "        'variables': {\n",
    "            'THC_demand': s_THC_demand\n",
    "            \n",
    "        }\n",
    "    },\n",
    "    \n",
    "    {\n",
    "        'label': ' THC_supply dynamics', \n",
    "        'policies': {\n",
    "            'THC_supply': p_THC_supply\n",
    "        },\n",
    "        'variables': {\n",
    "            'THC_supply': s_THC_supply\n",
    "            \n",
    "        }\n",
    "    },\n",
    "    \n",
    "    {\n",
    "        'label': ' THG_supply dynamics', \n",
    "        'policies': {\n",
    "            'THG_supply': p_THG_supply\n",
    "        },\n",
    "        'variables': {\n",
    "            'THG_supply': s_THG_supply\n",
    "            \n",
    "        }\n",
    "    },\n",
    "    \n",
    "    {\n",
    "        'label': ' THG_demand dynamics', \n",
    "        'policies': {\n",
    "            'THG_fees': p_THG_fees,\n",
    "            'THG_upgrade': p_THG_upgrade\n",
    "        },\n",
    "        'variables': {\n",
    "            'THG_demand': s_THG_demand\n",
    "            \n",
    "        }\n",
    "    }\n",
    "    \n",
    "]"
   ]
  },
  {
   "cell_type": "markdown",
   "id": "bb2dbe19",
   "metadata": {},
   "source": [
    "# Configuration of the simulation"
   ]
  },
  {
   "cell_type": "code",
   "execution_count": 16,
   "id": "7309df6f",
   "metadata": {},
   "outputs": [],
   "source": [
    "MONTE_CARLO_RUNS = 100\n",
    "SIMULATION_TIMESTEPS = 365\n",
    "\n",
    "sim_config = config_sim(\n",
    "    {\n",
    "        'N': MONTE_CARLO_RUNS,\n",
    "        'T': range(SIMULATION_TIMESTEPS),\n",
    "        'M': system_params,\n",
    "    }\n",
    ")\n",
    "\n",
    "from cadCAD import configs\n",
    "del configs[:] # Clear any prior configs\n",
    "\n",
    "experiment = Experiment()\n",
    "experiment.append_configs(\n",
    "    sim_configs=sim_config,\n",
    "    initial_state=initial_state,\n",
    "    partial_state_update_blocks=partial_state_update_blocks\n",
    ")"
   ]
  },
  {
   "cell_type": "code",
   "execution_count": 17,
   "id": "13a2a52d",
   "metadata": {},
   "outputs": [
    {
     "name": "stdout",
     "output_type": "stream",
     "text": [
      "\n",
      "                  ___________    ____\n",
      "  ________ __ ___/ / ____/   |  / __ \\\n",
      " / ___/ __` / __  / /   / /| | / / / /\n",
      "/ /__/ /_/ / /_/ / /___/ ___ |/ /_/ /\n",
      "\\___/\\__,_/\\__,_/\\____/_/  |_/_____/\n",
      "by cadCAD\n",
      "\n",
      "Execution Mode: local_proc\n",
      "Configuration Count: 2\n",
      "Dimensions of the first simulation: (Timesteps, Params, Runs, Vars) = (365, 7, 100, 5)\n",
      "Execution Method: local_simulations\n",
      "SimIDs   : [0, 0, 0, 0, 0, 0, 0, 0, 0, 0, 0, 0, 0, 0, 0, 0, 0, 0, 0, 0, 0, 0, 0, 0, 0, 0, 0, 0, 0, 0, 0, 0, 0, 0, 0, 0, 0, 0, 0, 0, 0, 0, 0, 0, 0, 0, 0, 0, 0, 0, 0, 0, 0, 0, 0, 0, 0, 0, 0, 0, 0, 0, 0, 0, 0, 0, 0, 0, 0, 0, 0, 0, 0, 0, 0, 0, 0, 0, 0, 0, 0, 0, 0, 0, 0, 0, 0, 0, 0, 0, 0, 0, 0, 0, 0, 0, 0, 0, 0, 0, 1, 1, 1, 1, 1, 1, 1, 1, 1, 1, 1, 1, 1, 1, 1, 1, 1, 1, 1, 1, 1, 1, 1, 1, 1, 1, 1, 1, 1, 1, 1, 1, 1, 1, 1, 1, 1, 1, 1, 1, 1, 1, 1, 1, 1, 1, 1, 1, 1, 1, 1, 1, 1, 1, 1, 1, 1, 1, 1, 1, 1, 1, 1, 1, 1, 1, 1, 1, 1, 1, 1, 1, 1, 1, 1, 1, 1, 1, 1, 1, 1, 1, 1, 1, 1, 1, 1, 1, 1, 1, 1, 1, 1, 1, 1, 1, 1, 1, 1, 1]\n",
      "SubsetIDs: [0, 0, 0, 0, 0, 0, 0, 0, 0, 0, 0, 0, 0, 0, 0, 0, 0, 0, 0, 0, 0, 0, 0, 0, 0, 0, 0, 0, 0, 0, 0, 0, 0, 0, 0, 0, 0, 0, 0, 0, 0, 0, 0, 0, 0, 0, 0, 0, 0, 0, 0, 0, 0, 0, 0, 0, 0, 0, 0, 0, 0, 0, 0, 0, 0, 0, 0, 0, 0, 0, 0, 0, 0, 0, 0, 0, 0, 0, 0, 0, 0, 0, 0, 0, 0, 0, 0, 0, 0, 0, 0, 0, 0, 0, 0, 0, 0, 0, 0, 0, 1, 1, 1, 1, 1, 1, 1, 1, 1, 1, 1, 1, 1, 1, 1, 1, 1, 1, 1, 1, 1, 1, 1, 1, 1, 1, 1, 1, 1, 1, 1, 1, 1, 1, 1, 1, 1, 1, 1, 1, 1, 1, 1, 1, 1, 1, 1, 1, 1, 1, 1, 1, 1, 1, 1, 1, 1, 1, 1, 1, 1, 1, 1, 1, 1, 1, 1, 1, 1, 1, 1, 1, 1, 1, 1, 1, 1, 1, 1, 1, 1, 1, 1, 1, 1, 1, 1, 1, 1, 1, 1, 1, 1, 1, 1, 1, 1, 1, 1, 1]\n",
      "Ns       : [0, 1, 2, 3, 4, 5, 6, 7, 8, 9, 10, 11, 12, 13, 14, 15, 16, 17, 18, 19, 20, 21, 22, 23, 24, 25, 26, 27, 28, 29, 30, 31, 32, 33, 34, 35, 36, 37, 38, 39, 40, 41, 42, 43, 44, 45, 46, 47, 48, 49, 50, 51, 52, 53, 54, 55, 56, 57, 58, 59, 60, 61, 62, 63, 64, 65, 66, 67, 68, 69, 70, 71, 72, 73, 74, 75, 76, 77, 78, 79, 80, 81, 82, 83, 84, 85, 86, 87, 88, 89, 90, 91, 92, 93, 94, 95, 96, 97, 98, 99, 0, 1, 2, 3, 4, 5, 6, 7, 8, 9, 10, 11, 12, 13, 14, 15, 16, 17, 18, 19, 20, 21, 22, 23, 24, 25, 26, 27, 28, 29, 30, 31, 32, 33, 34, 35, 36, 37, 38, 39, 40, 41, 42, 43, 44, 45, 46, 47, 48, 49, 50, 51, 52, 53, 54, 55, 56, 57, 58, 59, 60, 61, 62, 63, 64, 65, 66, 67, 68, 69, 70, 71, 72, 73, 74, 75, 76, 77, 78, 79, 80, 81, 82, 83, 84, 85, 86, 87, 88, 89, 90, 91, 92, 93, 94, 95, 96, 97, 98, 99]\n",
      "ExpIDs   : [0, 0, 0, 0, 0, 0, 0, 0, 0, 0, 0, 0, 0, 0, 0, 0, 0, 0, 0, 0, 0, 0, 0, 0, 0, 0, 0, 0, 0, 0, 0, 0, 0, 0, 0, 0, 0, 0, 0, 0, 0, 0, 0, 0, 0, 0, 0, 0, 0, 0, 0, 0, 0, 0, 0, 0, 0, 0, 0, 0, 0, 0, 0, 0, 0, 0, 0, 0, 0, 0, 0, 0, 0, 0, 0, 0, 0, 0, 0, 0, 0, 0, 0, 0, 0, 0, 0, 0, 0, 0, 0, 0, 0, 0, 0, 0, 0, 0, 0, 0, 0, 0, 0, 0, 0, 0, 0, 0, 0, 0, 0, 0, 0, 0, 0, 0, 0, 0, 0, 0, 0, 0, 0, 0, 0, 0, 0, 0, 0, 0, 0, 0, 0, 0, 0, 0, 0, 0, 0, 0, 0, 0, 0, 0, 0, 0, 0, 0, 0, 0, 0, 0, 0, 0, 0, 0, 0, 0, 0, 0, 0, 0, 0, 0, 0, 0, 0, 0, 0, 0, 0, 0, 0, 0, 0, 0, 0, 0, 0, 0, 0, 0, 0, 0, 0, 0, 0, 0, 0, 0, 0, 0, 0, 0, 0, 0, 0, 0, 0, 0]\n",
      "Execution Mode: parallelized\n",
      "Total execution time: 80.92s\n"
     ]
    }
   ],
   "source": [
    "exec_context = ExecutionContext()\n",
    "run = Executor(exec_context=exec_context, configs=configs)\n",
    "\n",
    "(system_events, tensor_field, sessions) = run.execute()"
   ]
  },
  {
   "cell_type": "code",
   "execution_count": 18,
   "id": "cae79165",
   "metadata": {},
   "outputs": [],
   "source": [
    "# Get system events and attribute index\n",
    "df = (pd.DataFrame(system_events)\n",
    "        .assign(days=lambda df: df.timestep)\n",
    "        .assign(THC_demand=lambda df: df.THC_demand)\n",
    "        .assign(THC_supply=lambda df: df.THC_supply)\n",
    "        .assign(THG_demand=lambda df: df.THG_demand)\n",
    "        .assign(THG_supply=lambda df: df.THG_supply)\n",
    "     )\n",
    "\n",
    "# Clean substeps\n",
    "first_ind = (df.substep == 0) & (df.timestep == 0)\n",
    "last_ind = df.substep == max(df.substep)\n",
    "inds_to_drop = (first_ind | last_ind)\n",
    "df = df.loc[inds_to_drop].drop(columns=['substep'])\n",
    "\n",
    "# Attribute parameters to each row\n",
    "df = df.assign(**configs[0].sim_config['M'])\n",
    "for i, (_, n_df) in enumerate(df.groupby(['simulation', 'subset', 'run'])):\n",
    "    df.loc[n_df.index] = n_df.assign(**configs[i].sim_config['M'])"
   ]
  },
  {
   "cell_type": "markdown",
   "id": "b9b933bb",
   "metadata": {},
   "source": [
    "The next part (_centered function) is not supposed to be part of our simulation, but I received an error and the only way to solve it was to write this function explicitely. "
   ]
  },
  {
   "cell_type": "code",
   "execution_count": 19,
   "id": "559970e1",
   "metadata": {},
   "outputs": [],
   "source": [
    "import  scipy.signal.signaltools\n",
    "\n",
    "def _centered(arr, newsize):\n",
    "    # Return the center newsize portion of the array.\n",
    "    newsize = np.asarray(newsize)\n",
    "    currsize = np.array(arr.shape)\n",
    "    startind = (currsize - newsize) // 2\n",
    "    endind = startind + newsize\n",
    "    myslice = [slice(startind[k], endind[k]) for k in range(len(endind))]\n",
    "    return arr[tuple(myslice)]\n",
    "\n",
    "scipy.signal.signaltools._centered = _centered"
   ]
  },
  {
   "cell_type": "markdown",
   "id": "5a663606",
   "metadata": {},
   "source": [
    "# Plot the results"
   ]
  },
  {
   "cell_type": "code",
   "execution_count": 20,
   "id": "9e9ea6c7",
   "metadata": {},
   "outputs": [
    {
     "data": {
      "image/png": "[encoded data removed]",
      "text/plain": [
       "<Figure size 640x480 with 1 Axes>"
      ]
     },
     "metadata": {},
     "output_type": "display_data"
    }
   ],
   "source": [
    "import matplotlib.pyplot as plt\n",
    "fig_df = df.query('investor_rate == 0.2')\n",
    "fig_df_1 = df.query('investor_rate == 0.25')\n",
    "x=fig_df.days\n",
    "y1=fig_df.THC_supply\n",
    "y2=fig_df.THC_demand\n",
    "y3 = fig_df_1.THC_demand\n",
    "\n",
    "plt.scatter(x, y1, c=\"b\", alpha=0.5, label=\"THC_supply\")\n",
    "plt.scatter(x, y2, c=\"r\", alpha=0.5, label=\"THC_demand when 20% of the users are investor type\")\n",
    "plt.scatter(x, y3, c=\"g\", alpha=0.5, label=\"THC_demand when 25% of the users are investor type\")\n",
    "\n",
    "plt.xlabel(\"time\")\n",
    "#plt.ylabel(\"\")\n",
    "plt.legend(loc='upper left')\n",
    "plt.grid()\n",
    "plt.show()"
   ]
  },
  {
   "cell_type": "code",
   "execution_count": 267,
   "id": "4a6466db",
   "metadata": {},
   "outputs": [
    {
     "data": {
      "image/png": "[encoded data removed]",
      "text/plain": [
       "<Figure size 640x480 with 1 Axes>"
      ]
     },
     "metadata": {},
     "output_type": "display_data"
    }
   ],
   "source": [
    "import matplotlib.pyplot as plt\n",
    "fig_df = df.query('THC_deflation == 0')\n",
    "x=fig_df.days\n",
    "y1=fig_df.THG_supply\n",
    "y2=fig_df.THG_demand\n",
    "\n",
    "plt.scatter(x, y1, c=\"b\", alpha=0.5, label=\"THG_supply\")\n",
    "plt.scatter(x, y2, c=\"r\", alpha=0.5, label=\"THG_demand\")\n",
    "plt.xlabel(\"time\")\n",
    "#plt.ylabel(\"\")\n",
    "plt.legend(loc='upper left')\n",
    "plt.grid()\n",
    "plt.show()"
   ]
  },
  {
   "cell_type": "code",
   "execution_count": null,
   "id": "231393f3",
   "metadata": {},
   "outputs": [],
   "source": []
  }
 ],
 "metadata": {
  "kernelspec": {
   "display_name": "Python 3",
   "language": "python",
   "name": "python3"
  },
  "language_info": {
   "codemirror_mode": {
    "name": "ipython",
    "version": 3
   },
   "file_extension": ".py",
   "mimetype": "text/x-python",
   "name": "python",
   "nbconvert_exporter": "python",
   "pygments_lexer": "ipython3",
   "version": "3.8.13"
  }
 },
 "nbformat": 4,
 "nbformat_minor": 5
}
